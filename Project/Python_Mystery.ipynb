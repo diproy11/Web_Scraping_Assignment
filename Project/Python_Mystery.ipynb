{
  "nbformat": 4,
  "nbformat_minor": 0,
  "metadata": {
    "colab": {
      "provenance": []
    },
    "kernelspec": {
      "name": "python3",
      "display_name": "Python 3"
    },
    "language_info": {
      "name": "python"
    }
  },
  "cells": [
    {
      "cell_type": "markdown",
      "source": [
        "1. case 1: n = 1, v = 1\n",
        "2. case 2: n= 2, v = 23 (Note: 23 is derived as 1 + 22)\n",
        "3. case 3: n= 3, v = 356 (Note: 356 is derived as 1+22+333)\n",
        "4. case 4: n= 4, v = 4800 (Note: 356 is derived as 1+22+333+4444)\n",
        "\n",
        "def mystery(n):\n",
        "\n",
        "...\n",
        "...\n",
        "...\n",
        "\n",
        "return v\n"
      ],
      "metadata": {
        "id": "4cBf0vMt4JA0"
      }
    },
    {
      "cell_type": "code",
      "source": [
        "import math\n",
        "def mystery(n):\n",
        "  v = (pow(10, n+1)*(9 * n-1)+10)/pow(9,3)-n*(n+1)/18\n",
        "  return int(v)\n",
        "\n"
      ],
      "metadata": {
        "id": "QMbA51TU4Juk"
      },
      "execution_count": 18,
      "outputs": []
    },
    {
      "cell_type": "code",
      "source": [
        "mystery(4)"
      ],
      "metadata": {
        "colab": {
          "base_uri": "https://localhost:8080/"
        },
        "id": "6wyBVVoG8h_V",
        "outputId": "2a2a90b4-4323-4dac-f918-13bec134123b"
      },
      "execution_count": 19,
      "outputs": [
        {
          "output_type": "execute_result",
          "data": {
            "text/plain": [
              "4800"
            ]
          },
          "metadata": {},
          "execution_count": 19
        }
      ]
    }
  ]
}